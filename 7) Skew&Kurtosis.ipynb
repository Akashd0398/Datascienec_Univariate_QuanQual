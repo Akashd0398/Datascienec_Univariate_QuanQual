{
 "cells": [
  {
   "cell_type": "code",
   "execution_count": null,
   "id": "cbf8879a",
   "metadata": {},
   "outputs": [],
   "source": [
    "import pandas as pd"
   ]
  },
  {
   "cell_type": "code",
   "execution_count": null,
   "id": "ab444d5c",
   "metadata": {},
   "outputs": [],
   "source": [
    "dataset = pd.read_csv('placement.csv')"
   ]
  },
  {
   "cell_type": "code",
   "execution_count": null,
   "id": "4cc15279",
   "metadata": {},
   "outputs": [],
   "source": [
    "dataset"
   ]
  },
  {
   "cell_type": "code",
   "execution_count": null,
   "id": "42b49469",
   "metadata": {},
   "outputs": [],
   "source": [
    "dataset.info()"
   ]
  },
  {
   "cell_type": "code",
   "execution_count": null,
   "id": "2ba56241",
   "metadata": {},
   "outputs": [],
   "source": [
    "#Quan = ['ssc_p' , 'hsc_p' , 'degree_p' , 'etest_p' , 'mba_p' , 'salary']\n",
    "#Qual = ['gender' , 'ssc_b' , 'hsc_b' , 'hsc_s' , 'degree_t' , 'workex' , 'specialisation' , 'status']"
   ]
  },
  {
   "cell_type": "code",
   "execution_count": null,
   "id": "4a138bc3",
   "metadata": {},
   "outputs": [],
   "source": [
    "dataset.columns"
   ]
  },
  {
   "cell_type": "code",
   "execution_count": null,
   "id": "56b1b35b",
   "metadata": {},
   "outputs": [],
   "source": [
    "dir(dataset)"
   ]
  },
  {
   "cell_type": "code",
   "execution_count": null,
   "id": "c69d72c6",
   "metadata": {},
   "outputs": [],
   "source": [
    "dataset.dtypes\n"
   ]
  },
  {
   "cell_type": "code",
   "execution_count": null,
   "id": "7903e2ff",
   "metadata": {},
   "outputs": [],
   "source": [
    "dataset['gender'].dtype"
   ]
  },
  {
   "cell_type": "code",
   "execution_count": null,
   "id": "aafb58f8",
   "metadata": {},
   "outputs": [],
   "source": [
    "for columnames in dataset.columns:\n",
    "    print(columnames)"
   ]
  },
  {
   "cell_type": "code",
   "execution_count": null,
   "id": "7d5f9d26",
   "metadata": {},
   "outputs": [],
   "source": [
    "if(dataset['gender'].dtypes=='O'):\n",
    "    print('qual')\n",
    "else:\n",
    "    print('quan')\n",
    "    "
   ]
  },
  {
   "cell_type": "code",
   "execution_count": null,
   "id": "15b515f3",
   "metadata": {},
   "outputs": [],
   "source": [
    "qual=[]\n",
    "quan=[]\n",
    "for columnames in dataset.columns:\n",
    "    #print(columnames)\n",
    "    if(dataset[columnames].dtypes=='O'):\n",
    "        #print('qual')\n",
    "        qual.append(columnames)\n",
    "    else:\n",
    "        #print('quan')\n",
    "        quan.append(columnames)"
   ]
  },
  {
   "cell_type": "code",
   "execution_count": null,
   "id": "33e9fedc",
   "metadata": {},
   "outputs": [],
   "source": [
    "qual"
   ]
  },
  {
   "cell_type": "code",
   "execution_count": null,
   "id": "b625a291",
   "metadata": {},
   "outputs": [],
   "source": [
    "quan"
   ]
  },
  {
   "cell_type": "code",
   "execution_count": null,
   "id": "6629daed",
   "metadata": {},
   "outputs": [],
   "source": [
    "def quanQual(dataset):\n",
    "    qual=[]\n",
    "    quan=[]\n",
    "    for columnames in dataset.columns:\n",
    "        #print(columnames)\n",
    "        if(dataset[columnames].dtypes=='O'):\n",
    "            #print('qual')\n",
    "            qual.append(columnames)\n",
    "        else:\n",
    "            #print('quan')\n",
    "            quan.append(columnames)\n",
    "    return qual,quan"
   ]
  },
  {
   "cell_type": "code",
   "execution_count": null,
   "id": "58bcc4d2",
   "metadata": {},
   "outputs": [],
   "source": [
    "quan"
   ]
  },
  {
   "cell_type": "code",
   "execution_count": null,
   "id": "d1e4d0d6",
   "metadata": {},
   "outputs": [],
   "source": [
    "qual"
   ]
  },
  {
   "cell_type": "code",
   "execution_count": null,
   "id": "3363e6ec",
   "metadata": {},
   "outputs": [],
   "source": [
    "quanQual(dataset)"
   ]
  },
  {
   "cell_type": "code",
   "execution_count": null,
   "id": "e9b5396f",
   "metadata": {},
   "outputs": [],
   "source": [
    "qual,quan=quanQual(dataset)"
   ]
  },
  {
   "cell_type": "code",
   "execution_count": null,
   "id": "c8a112ff",
   "metadata": {},
   "outputs": [],
   "source": [
    "quan"
   ]
  },
  {
   "cell_type": "code",
   "execution_count": null,
   "id": "d706971e",
   "metadata": {},
   "outputs": [],
   "source": [
    "qual"
   ]
  },
  {
   "cell_type": "markdown",
   "id": "d31a7617",
   "metadata": {},
   "source": [
    "#Measure of Central Tendency"
   ]
  },
  {
   "cell_type": "code",
   "execution_count": null,
   "id": "45446f20",
   "metadata": {},
   "outputs": [],
   "source": [
    "dataset[\"ssc_p\"].mean()"
   ]
  },
  {
   "cell_type": "code",
   "execution_count": null,
   "id": "8629fca5",
   "metadata": {},
   "outputs": [],
   "source": [
    "dataset[\"ssc_p\"].median()"
   ]
  },
  {
   "cell_type": "code",
   "execution_count": null,
   "id": "c339e427",
   "metadata": {},
   "outputs": [],
   "source": [
    "dataset[\"ssc_p\"].mode()"
   ]
  },
  {
   "cell_type": "code",
   "execution_count": null,
   "id": "e99888a2",
   "metadata": {},
   "outputs": [],
   "source": [
    "dataset[\"ssc_p\"].mode()[0]"
   ]
  },
  {
   "cell_type": "code",
   "execution_count": null,
   "id": "3d9fff72",
   "metadata": {},
   "outputs": [],
   "source": [
    "descriptive = pd.DataFrame()"
   ]
  },
  {
   "cell_type": "code",
   "execution_count": null,
   "id": "bd056a2c",
   "metadata": {},
   "outputs": [],
   "source": [
    "descriptive = pd.DataFrame(index=[\"Mean\",\"Median\",\"Mode\"],columns = quan)"
   ]
  },
  {
   "cell_type": "code",
   "execution_count": null,
   "id": "001b8116",
   "metadata": {},
   "outputs": [],
   "source": [
    "descriptive"
   ]
  },
  {
   "cell_type": "code",
   "execution_count": null,
   "id": "41e515a7",
   "metadata": {},
   "outputs": [],
   "source": [
    "descriptive[\"ssc_p\"][\"Median\"]"
   ]
  },
  {
   "cell_type": "code",
   "execution_count": null,
   "id": "a3a1d215",
   "metadata": {},
   "outputs": [],
   "source": [
    "descriptive[\"ssc_p\"][\"Median\"] = 0"
   ]
  },
  {
   "cell_type": "code",
   "execution_count": null,
   "id": "6ae940e7",
   "metadata": {},
   "outputs": [],
   "source": [
    "descriptive"
   ]
  },
  {
   "cell_type": "code",
   "execution_count": null,
   "id": "2eb8ee0d",
   "metadata": {},
   "outputs": [],
   "source": [
    "descriptive = pd.DataFrame(index=[\"Mean\",\"Median\",\"Mode\"],columns = quan)\n",
    "for columnames in quan:\n",
    "    descriptive[columnames][\"Mean\"] = dataset[columnames].mean()"
   ]
  },
  {
   "cell_type": "code",
   "execution_count": null,
   "id": "961b3cb8",
   "metadata": {},
   "outputs": [],
   "source": [
    "descriptive"
   ]
  },
  {
   "cell_type": "code",
   "execution_count": null,
   "id": "6d974668",
   "metadata": {},
   "outputs": [],
   "source": [
    "descriptive = pd.DataFrame(index=[\"Mean\",\"Median\",\"Mode\"],columns = quan)\n",
    "for columnames in quan:\n",
    "    descriptive[columnames][\"Mean\"] = dataset[columnames].mean()\n",
    "    descriptive[columnames][\"Median\"] = dataset[columnames].median()\n",
    "    descriptive[columnames][\"Mode\"] = dataset[columnames].mode()[0]"
   ]
  },
  {
   "cell_type": "code",
   "execution_count": null,
   "id": "3f883e41",
   "metadata": {},
   "outputs": [],
   "source": [
    "descriptive"
   ]
  },
  {
   "cell_type": "markdown",
   "id": "f63b496a",
   "metadata": {},
   "source": [
    "#Percentile"
   ]
  },
  {
   "cell_type": "code",
   "execution_count": null,
   "id": "ff567fdd",
   "metadata": {},
   "outputs": [],
   "source": [
    "import numpy as np"
   ]
  },
  {
   "cell_type": "code",
   "execution_count": null,
   "id": "fbd28a47",
   "metadata": {},
   "outputs": [],
   "source": [
    "np.percentile(dataset[\"ssc_p\"],80)"
   ]
  },
  {
   "cell_type": "code",
   "execution_count": null,
   "id": "cb53f850",
   "metadata": {},
   "outputs": [],
   "source": [
    "descriptive = pd.DataFrame(index=[\"Mean\",\"Median\",\"Mode\",\"Q1:25%\",\"Q2:50%\",\"Q3:75%\",\"99%\",\"Q4:100%\"],columns = quan)\n",
    "for columnames in quan:\n",
    "    descriptive[columnames][\"Mean\"] = dataset[columnames].mean()\n",
    "    descriptive[columnames][\"Median\"] = dataset[columnames].median()\n",
    "    descriptive[columnames][\"Mode\"] = dataset[columnames].mode()[0]\n",
    "    descriptive[columnames][\"Q1:25%\"] = np.percentile(dataset[columnames],25)\n",
    "    descriptive[columnames][\"Q2:50%\"] = np.percentile(dataset[columnames],50)\n",
    "    descriptive[columnames][\"Q3:75%\"] = np.percentile(dataset[columnames],75)\n",
    "    descriptive[columnames][\"99%\"] = np.percentile(dataset[columnames],99)\n",
    "    descriptive[columnames][\"Q4:100%\"] = np.percentile(dataset[columnames],100)"
   ]
  },
  {
   "cell_type": "code",
   "execution_count": null,
   "id": "ed23f874",
   "metadata": {},
   "outputs": [],
   "source": [
    "descriptive"
   ]
  },
  {
   "cell_type": "markdown",
   "id": "09c48f2b",
   "metadata": {},
   "source": [
    "#IQR"
   ]
  },
  {
   "cell_type": "code",
   "execution_count": null,
   "id": "59b35596",
   "metadata": {},
   "outputs": [],
   "source": [
    "descriptive = pd.DataFrame(index=[\"Mean\",\"Median\",\"Mode\",\"Q1:25%\",\"Q2:50%\",\"Q3:75%\",\"99%\",\"Q4:100%\",\"IQR\",\"1.5rule\",\"lesser\",\"greater\",\"min\",\"max\"],columns = quan)\n",
    "for columnames in quan:\n",
    "    descriptive[columnames][\"Mean\"] = dataset[columnames].mean()\n",
    "    descriptive[columnames][\"Median\"] = dataset[columnames].median()\n",
    "    descriptive[columnames][\"Mode\"] = dataset[columnames].mode()[0]\n",
    "    descriptive[columnames][\"Q1:25%\"] = np.percentile(dataset[columnames],25)\n",
    "    descriptive[columnames][\"Q2:50%\"] = np.percentile(dataset[columnames],50)\n",
    "    descriptive[columnames][\"Q3:75%\"] = np.percentile(dataset[columnames],75)\n",
    "    descriptive[columnames][\"99%\"] = np.percentile(dataset[columnames],99)\n",
    "    descriptive[columnames][\"Q4:100%\"] = np.percentile(dataset[columnames],100)\n",
    "    descriptive[columnames][\"IQR\"] = descriptive[columnames][\"Q3:75%\"] - descriptive[columnames][\"Q1:25%\"]\n",
    "    descriptive[columnames][\"1.5rule\"] = 1.5 * descriptive[columnames][\"IQR\"]\n",
    "    descriptive[columnames][\"lesser\"] = descriptive[columnames][\"Q1:25%\"] - descriptive[columnames][\"1.5rule\"]\n",
    "    descriptive[columnames][\"greater\"] = descriptive[columnames][\"Q3:75%\"] + descriptive[columnames][\"1.5rule\"]\n",
    "    descriptive[columnames][\"min\"] = dataset[columnames].min()\n",
    "    descriptive[columnames][\"max\"] = dataset[columnames].max()"
   ]
  },
  {
   "cell_type": "code",
   "execution_count": null,
   "id": "5f28ea9c",
   "metadata": {},
   "outputs": [],
   "source": [
    "descriptive"
   ]
  },
  {
   "cell_type": "code",
   "execution_count": null,
   "id": "d0882957",
   "metadata": {},
   "outputs": [],
   "source": [
    "descriptive = pd.DataFrame(index=[\"Mean\",\"Median\",\"Mode\",\"Q1:25%\",\"Q2:50%\",\"Q3:75%\",\"99%\",\"Q4:100%\",\"IQR\",\"1.5rule\",\"lesser\",\"greater\",\"min\",\"max\"],columns = quan)\n",
    "for columnames in quan:\n",
    "    descriptive[columnames][\"Mean\"] = dataset[columnames].mean()\n",
    "    descriptive[columnames][\"Median\"] = dataset[columnames].median()\n",
    "    descriptive[columnames][\"Mode\"] = dataset[columnames].mode()[0]\n",
    "    descriptive[columnames][\"Q1:25%\"] = dataset.describe()[columnames][\"25%\"]\n",
    "    descriptive[columnames][\"Q2:50%\"] = dataset.describe()[columnames][\"50%\"]\n",
    "    descriptive[columnames][\"Q3:75%\"] = dataset.describe()[columnames][\"75%\"]\n",
    "    descriptive[columnames][\"99%\"] = np.percentile(dataset[columnames],99)\n",
    "    descriptive[columnames][\"Q4:100%\"] = dataset.describe()[columnames][\"max\"]\n",
    "    descriptive[columnames][\"IQR\"] = descriptive[columnames][\"Q3:75%\"] - descriptive[columnames][\"Q1:25%\"]\n",
    "    descriptive[columnames][\"1.5rule\"] = 1.5 * descriptive[columnames][\"IQR\"]\n",
    "    descriptive[columnames][\"lesser\"] = descriptive[columnames][\"Q1:25%\"] - descriptive[columnames][\"1.5rule\"]\n",
    "    descriptive[columnames][\"greater\"] = descriptive[columnames][\"Q3:75%\"] + descriptive[columnames][\"1.5rule\"]\n",
    "    descriptive[columnames][\"min\"] = dataset[columnames].min()\n",
    "    descriptive[columnames][\"max\"] = dataset[columnames].max()"
   ]
  },
  {
   "cell_type": "code",
   "execution_count": null,
   "id": "c7c97b5b",
   "metadata": {},
   "outputs": [],
   "source": [
    "descriptive"
   ]
  },
  {
   "cell_type": "markdown",
   "id": "26308a6b",
   "metadata": {},
   "source": [
    "#Indentifying Outliers"
   ]
  },
  {
   "cell_type": "code",
   "execution_count": null,
   "id": "4d10c816",
   "metadata": {},
   "outputs": [],
   "source": [
    "descriptive[\"hsc_p\"][\"min\"]<descriptive[\"hsc_p\"][\"lesser\"]"
   ]
  },
  {
   "cell_type": "code",
   "execution_count": null,
   "id": "710c22f0",
   "metadata": {},
   "outputs": [],
   "source": [
    "lesser=[]\n",
    "greater=[]\n",
    "for columnames in quan:\n",
    "    if(descriptive[columnames][\"lesser\"]>descriptive[columnames][\"min\"]):\n",
    "        lesser.append(columnames)\n",
    "    if(descriptive[columnames][\"greater\"]<descriptive[columnames][\"max\"]):\n",
    "        greater.append(columnames)"
   ]
  },
  {
   "cell_type": "code",
   "execution_count": null,
   "id": "d1f5ad91",
   "metadata": {},
   "outputs": [],
   "source": [
    "lesser"
   ]
  },
  {
   "cell_type": "code",
   "execution_count": null,
   "id": "30b55f8a",
   "metadata": {},
   "outputs": [],
   "source": [
    "greater"
   ]
  },
  {
   "cell_type": "markdown",
   "id": "e079be2b",
   "metadata": {},
   "source": [
    "#Replacing outliers"
   ]
  },
  {
   "cell_type": "code",
   "execution_count": null,
   "id": "815cae00",
   "metadata": {},
   "outputs": [],
   "source": [
    "for columnames in lesser:\n",
    "    dataset[columnames][dataset[columnames]<descriptive[columnames][\"lesser\"]] = descriptive[columnames][\"lesser\"]\n",
    "for columnames in greater:\n",
    "    dataset[columnames][dataset[columnames]>descriptive[columnames][\"greater\"]] = descriptive[columnames][\"greater\"]"
   ]
  },
  {
   "cell_type": "code",
   "execution_count": null,
   "id": "b37b6738",
   "metadata": {},
   "outputs": [],
   "source": [
    "descriptive = pd.DataFrame(index=[\"Mean\",\"Median\",\"Mode\",\"Q1:25%\",\"Q2:50%\",\"Q3:75%\",\"99%\",\"Q4:100%\",\"IQR\",\"1.5rule\",\"lesser\",\"greater\",\"min\",\"max\"],columns = quan)\n",
    "for columnames in quan:\n",
    "    descriptive[columnames][\"Mean\"] = dataset[columnames].mean()\n",
    "    descriptive[columnames][\"Median\"] = dataset[columnames].median()\n",
    "    descriptive[columnames][\"Mode\"] = dataset[columnames].mode()[0]\n",
    "    descriptive[columnames][\"Q1:25%\"] = dataset.describe()[columnames][\"25%\"]\n",
    "    descriptive[columnames][\"Q2:50%\"] = dataset.describe()[columnames][\"50%\"]\n",
    "    descriptive[columnames][\"Q3:75%\"] = dataset.describe()[columnames][\"75%\"]\n",
    "    descriptive[columnames][\"99%\"] = np.percentile(dataset[columnames],99)\n",
    "    descriptive[columnames][\"Q4:100%\"] = dataset.describe()[columnames][\"max\"]\n",
    "    descriptive[columnames][\"IQR\"] = descriptive[columnames][\"Q3:75%\"] - descriptive[columnames][\"Q1:25%\"]\n",
    "    descriptive[columnames][\"1.5rule\"] = 1.5 * descriptive[columnames][\"IQR\"]\n",
    "    descriptive[columnames][\"lesser\"] = descriptive[columnames][\"Q1:25%\"] - descriptive[columnames][\"1.5rule\"]\n",
    "    descriptive[columnames][\"greater\"] = descriptive[columnames][\"Q3:75%\"] + descriptive[columnames][\"1.5rule\"]\n",
    "    descriptive[columnames][\"min\"] = dataset[columnames].min()\n",
    "    descriptive[columnames][\"max\"] = dataset[columnames].max()"
   ]
  },
  {
   "cell_type": "code",
   "execution_count": null,
   "id": "3bc2239e",
   "metadata": {},
   "outputs": [],
   "source": [
    "descriptive"
   ]
  },
  {
   "cell_type": "code",
   "execution_count": null,
   "id": "b006c3d9",
   "metadata": {},
   "outputs": [],
   "source": [
    "lesser=[]\n",
    "greater=[]\n",
    "for columnames in quan:\n",
    "    if(descriptive[columnames][\"lesser\"]>descriptive[columnames][\"min\"]):\n",
    "        lesser.append(columnames)\n",
    "    if(descriptive[columnames][\"greater\"]<descriptive[columnames][\"max\"]):\n",
    "        greater.append(columnames)"
   ]
  },
  {
   "cell_type": "code",
   "execution_count": null,
   "id": "e680ee0d",
   "metadata": {},
   "outputs": [],
   "source": [
    "lesser"
   ]
  },
  {
   "cell_type": "code",
   "execution_count": null,
   "id": "ad7d16ea",
   "metadata": {},
   "outputs": [],
   "source": [
    "greater"
   ]
  },
  {
   "cell_type": "markdown",
   "id": "ac593a3b-0136-4d0e-9bdf-f4d501f187d5",
   "metadata": {},
   "source": [
    "#Frequency"
   ]
  },
  {
   "cell_type": "code",
   "execution_count": null,
   "id": "e2f69e9c-b9e9-47ee-b735-f7b577694ab9",
   "metadata": {},
   "outputs": [],
   "source": [
    "dataset[\"ssc_p\"].value_counts()\n",
    "#dataset[\"ssc_p\"].value_counts().values\n",
    "#dataset[\"ssc_p\"].value_counts().index"
   ]
  },
  {
   "cell_type": "code",
   "execution_count": null,
   "id": "3eb07746-f95e-4959-8d3e-3e5223706eb6",
   "metadata": {},
   "outputs": [],
   "source": [
    "freqTable=pd.DataFrame(columns=[\"Unique_Values\",\"Frequency\",\"Relative Frequency\",\"Cumsum\"])"
   ]
  },
  {
   "cell_type": "code",
   "execution_count": null,
   "id": "652e4f17-3390-4a87-b66c-e359b1e91771",
   "metadata": {},
   "outputs": [],
   "source": [
    "freqTable"
   ]
  },
  {
   "cell_type": "code",
   "execution_count": null,
   "id": "63da5b63-e14e-43b6-800e-4ca0294f454e",
   "metadata": {},
   "outputs": [],
   "source": [
    "freqTable[\"Unique_Values\"]=dataset[\"ssc_p\"].value_counts().index\n",
    "freqTable[\"Frequency\"]=dataset[\"ssc_p\"].value_counts().values\n",
    "freqTable[\"Relative Frequency\"]=(freqTable[\"Frequency\"]/103)\n",
    "freqTable[\"Cumsum\"]=freqTable[\"Relative Frequency\"].cumsum()"
   ]
  },
  {
   "cell_type": "code",
   "execution_count": null,
   "id": "921a5427-aa46-4ec8-9248-a8454afb8a90",
   "metadata": {},
   "outputs": [],
   "source": [
    "freqTable"
   ]
  },
  {
   "cell_type": "code",
   "execution_count": null,
   "id": "ea6fc27f-c4d1-416e-a66d-a98f3e6764af",
   "metadata": {},
   "outputs": [],
   "source": [
    "#shows number of rows in table\n",
    "#freqTable.shape[0]"
   ]
  },
  {
   "cell_type": "code",
   "execution_count": null,
   "id": "1c22b3ef-7921-48c3-a632-66ab3e2535a0",
   "metadata": {},
   "outputs": [],
   "source": [
    "def FreqTable(columnames,dataset):\n",
    "    freqTable=pd.DataFrame(columns=[\"Unique_Values\",\"Frequency\",\"Relative Frequency\",\"Cumsum\"])\n",
    "    freqTable[\"Unique_Values\"]=dataset[columnames].value_counts().index\n",
    "    freqTable[\"Frequency\"]=dataset[columnames].value_counts().values\n",
    "    freqTable[\"Relative Frequency\"]=(freqTable[\"Frequency\"]/freqTable.shape[0])\n",
    "    freqTable[\"Cumsum\"]=freqTable[\"Relative Frequency\"].cumsum()\n",
    "    return freqTable"
   ]
  },
  {
   "cell_type": "code",
   "execution_count": null,
   "id": "fff62035-9814-4404-b7c8-1997e7b6cc6c",
   "metadata": {},
   "outputs": [],
   "source": [
    "FreqTable('etest_p',dataset)"
   ]
  },
  {
   "cell_type": "code",
   "execution_count": null,
   "id": "5effcd6c-3e5d-424c-adeb-aa90efc75315",
   "metadata": {},
   "outputs": [],
   "source": [
    "dataset.columns"
   ]
  },
  {
   "cell_type": "code",
   "execution_count": null,
   "id": "b55505e7-1ff8-484b-ab90-927861c673bf",
   "metadata": {},
   "outputs": [],
   "source": [
    "def univariate(dataset,quan):\n",
    "    descriptive = pd.DataFrame(index=[\"Mean\",\"Median\",\"Mode\",\"Q1:25%\",\"Q2:50%\",\"Q3:75%\",\"99%\",\"Q4:100%\",\"IQR\",\"1.5rule\",\"lesser\",\"greater\",\"min\",\"max\"],columns = quan)\n",
    "    for columnames in quan:\n",
    "        descriptive[columnames][\"Mean\"] = dataset[columnames].mean()\n",
    "        descriptive[columnames][\"Median\"] = dataset[columnames].median()\n",
    "        descriptive[columnames][\"Mode\"] = dataset[columnames].mode()[0]\n",
    "        descriptive[columnames][\"Q1:25%\"] = np.percentile(dataset[columnames],25)\n",
    "        descriptive[columnames][\"Q2:50%\"] = np.percentile(dataset[columnames],50)\n",
    "        descriptive[columnames][\"Q3:75%\"] = np.percentile(dataset[columnames],75)\n",
    "        descriptive[columnames][\"99%\"] = np.percentile(dataset[columnames],99)\n",
    "        descriptive[columnames][\"Q4:100%\"] = np.percentile(dataset[columnames],100)\n",
    "        descriptive[columnames][\"IQR\"] = descriptive[columnames][\"Q3:75%\"] - descriptive[columnames][\"Q1:25%\"]\n",
    "        descriptive[columnames][\"1.5rule\"] = 1.5 * descriptive[columnames][\"IQR\"]\n",
    "        descriptive[columnames][\"lesser\"] = descriptive[columnames][\"Q1:25%\"] - descriptive[columnames][\"1.5rule\"]\n",
    "        descriptive[columnames][\"greater\"] = descriptive[columnames][\"Q3:75%\"] + descriptive[columnames][\"1.5rule\"]\n",
    "        descriptive[columnames][\"min\"] = dataset[columnames].min()\n",
    "        descriptive[columnames][\"max\"] = dataset[columnames].max()\n",
    "    return descriptive"
   ]
  },
  {
   "cell_type": "code",
   "execution_count": null,
   "id": "cf836b5c-8279-48b9-bec9-f4137a5bb452",
   "metadata": {},
   "outputs": [],
   "source": [
    "univariate(dataset,quan)"
   ]
  },
  {
   "cell_type": "markdown",
   "id": "8cebc986-9785-47a8-9f0b-9a375eb1bcb1",
   "metadata": {},
   "source": [
    "#SKEW & KURTOSIS"
   ]
  },
  {
   "cell_type": "code",
   "execution_count": null,
   "id": "86958b7d-d47d-408f-937d-e112f6ff4f79",
   "metadata": {},
   "outputs": [],
   "source": [
    "dataset['ssc_p'].skew()\n",
    "#dir(dataset[\"ssc_p\"]) to get function"
   ]
  },
  {
   "cell_type": "code",
   "execution_count": null,
   "id": "9a43a86c-bbbc-4bd2-b266-e40a483d02cb",
   "metadata": {},
   "outputs": [],
   "source": [
    "dataset['ssc_p'].kurtosis()"
   ]
  },
  {
   "cell_type": "code",
   "execution_count": null,
   "id": "a400d2b1-d28a-47f5-8027-2399b145b48a",
   "metadata": {},
   "outputs": [],
   "source": [
    "def univariate(dataset,quan):\n",
    "    descriptive = pd.DataFrame(index=[\"Mean\",\"Median\",\"Mode\",\"Q1:25%\",\"Q2:50%\",\"Q3:75%\",\"99%\",\n",
    "                                      \"Q4:100%\",\"IQR\",\"1.5rule\",\"lesser\",\"greater\",\"min\",\"max\",\"Skew\",\"Kurtosis\"],columns = quan)\n",
    "    for columnames in quan:\n",
    "        descriptive[columnames][\"Mean\"] = dataset[columnames].mean()\n",
    "        descriptive[columnames][\"Median\"] = dataset[columnames].median()\n",
    "        descriptive[columnames][\"Mode\"] = dataset[columnames].mode()[0]\n",
    "        descriptive[columnames][\"Q1:25%\"] = np.percentile(dataset[columnames],25)\n",
    "        descriptive[columnames][\"Q2:50%\"] = np.percentile(dataset[columnames],50)\n",
    "        descriptive[columnames][\"Q3:75%\"] = np.percentile(dataset[columnames],75)\n",
    "        descriptive[columnames][\"99%\"] = np.percentile(dataset[columnames],99)\n",
    "        descriptive[columnames][\"Q4:100%\"] = np.percentile(dataset[columnames],100)\n",
    "        descriptive[columnames][\"IQR\"] = descriptive[columnames][\"Q3:75%\"] - descriptive[columnames][\"Q1:25%\"]\n",
    "        descriptive[columnames][\"1.5rule\"] = 1.5 * descriptive[columnames][\"IQR\"]\n",
    "        descriptive[columnames][\"lesser\"] = descriptive[columnames][\"Q1:25%\"] - descriptive[columnames][\"1.5rule\"]\n",
    "        descriptive[columnames][\"greater\"] = descriptive[columnames][\"Q3:75%\"] + descriptive[columnames][\"1.5rule\"]\n",
    "        descriptive[columnames][\"min\"] = dataset[columnames].min()\n",
    "        descriptive[columnames][\"max\"] = dataset[columnames].max()\n",
    "        descriptive[columnames][\"Skew\"] = dataset[columnames].skew()\n",
    "        descriptive[columnames][\"Kurtosis\"] = dataset[columnames].kurtosis()\n",
    "    return descriptive"
   ]
  },
  {
   "cell_type": "code",
   "execution_count": null,
   "id": "b0d2817a-85dd-49f5-a59a-ee5b01dd6cda",
   "metadata": {},
   "outputs": [],
   "source": [
    "univariate(dataset,quan)"
   ]
  },
  {
   "cell_type": "code",
   "execution_count": null,
   "id": "0d793fef-b7b7-4537-b952-607d561a031b",
   "metadata": {},
   "outputs": [],
   "source": []
  }
 ],
 "metadata": {
  "kernelspec": {
   "display_name": "Python 3 (ipykernel)",
   "language": "python",
   "name": "python3"
  },
  "language_info": {
   "codemirror_mode": {
    "name": "ipython",
    "version": 3
   },
   "file_extension": ".py",
   "mimetype": "text/x-python",
   "name": "python",
   "nbconvert_exporter": "python",
   "pygments_lexer": "ipython3",
   "version": "3.10.14"
  }
 },
 "nbformat": 4,
 "nbformat_minor": 5
}
